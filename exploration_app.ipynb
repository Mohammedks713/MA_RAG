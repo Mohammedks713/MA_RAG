{
 "cells": [
  {
   "cell_type": "code",
   "id": "initial_id",
   "metadata": {
    "collapsed": true
   },
   "source": "# !pip install git+https://github.com/openai/swarm.git --disable-pip-version-check",
   "outputs": [],
   "execution_count": null
  },
  {
   "metadata": {},
   "cell_type": "code",
   "source": "# !pip install python-dotenv --disable-pip-version-check",
   "id": "2649b70e98fb87b2",
   "outputs": [],
   "execution_count": null
  },
  {
   "metadata": {},
   "cell_type": "code",
   "source": "# !pip install git+https://github.com/chrislatimer/microagent.git",
   "id": "c1de96699851156d",
   "outputs": [],
   "execution_count": null
  },
  {
   "metadata": {},
   "cell_type": "code",
   "source": [
    "import os\n",
    "from groq import Groq\n",
    "from dotenv import load_dotenv\n",
    "load_dotenv()\n",
    "client = Groq(\n",
    "    # This is the default and can be omitted\n",
    "    api_key=os.getenv(\"GROQ_API_KEY\"),\n",
    ")"
   ],
   "id": "b2758d3f06a2eb6e",
   "outputs": [],
   "execution_count": null
  },
  {
   "metadata": {},
   "cell_type": "code",
   "source": "models = client.models.list()",
   "id": "27f36bfa0cd8b25f",
   "outputs": [],
   "execution_count": null
  },
  {
   "metadata": {},
   "cell_type": "code",
   "source": [
    "ids = [item.id for item in  models.data]\n",
    "print(ids)"
   ],
   "id": "e81432eb843512d1",
   "outputs": [],
   "execution_count": null
  },
  {
   "metadata": {},
   "cell_type": "code",
   "source": "MODEL = \"llama-3.2-90b-text-preview\"",
   "id": "27c587008612c766",
   "outputs": [],
   "execution_count": null
  },
  {
   "metadata": {
    "ExecuteTime": {
     "end_time": "2024-11-12T19:19:28.247777Z",
     "start_time": "2024-11-12T19:19:28.236163Z"
    }
   },
   "cell_type": "code",
   "source": [
    "from datetime import datetime\n",
    "from duckduckgo_search import DDGS\n",
    "from microagent import Microagent, Agent\n",
    "\n",
    "# client = Microagent(llm_type='groq')\n",
    "\n",
    "ddgs = DDGS()"
   ],
   "id": "84f69c1fc6d713ce",
   "outputs": [],
   "execution_count": 2
  },
  {
   "metadata": {
    "ExecuteTime": {
     "end_time": "2024-11-12T19:19:33.370514Z",
     "start_time": "2024-11-12T19:19:32.863431Z"
    }
   },
   "cell_type": "code",
   "source": [
    "results = DDGS().news(keywords=\"Current Events\", region=\"wt-wt\", safesearch=\"off\", timelimit=\"w\", max_results=20)\n",
    "results"
   ],
   "id": "aba928864701b0ec",
   "outputs": [
    {
     "data": {
      "text/plain": [
       "[{'date': '2024-11-11T19:08:00+00:00',\n",
       "  'title': \"Lexington got a mention on 'Last Week Tonight with John Oliver.' Here's why\",\n",
       "  'body': 'Oliver referenced Lexington after Emma Curtis became the first openly-transgender person to be elected to a county council position in Lexington.',\n",
       "  'url': 'https://www.usatoday.com/story/news/local/2024/11/11/last-week-tonight-with-john-oliver-references-lexington-election/76193442007/',\n",
       "  'image': 'https://www.usatoday.com/gcdn/authoring/authoring-images/2024/09/16/USAT/75243624007-xxx-2024-emmys-1801023510-dcb.jpg?crop=4947,2784,x0,y164&width=3200&height=1801&format=pjpg&auto=webp',\n",
       "  'source': 'USA Today'},\n",
       " {'date': '2024-11-08T07:01:00+00:00',\n",
       "  'title': 'Current Events',\n",
       "  'body': 'By Katherine Schulten Weekly Student News Quiz: Election Day, World Series, Floods Have you been paying attention to current events recently? See how many of these 10 questions you can get right.',\n",
       "  'url': 'https://www.nytimes.com/spotlight/learning-current-events',\n",
       "  'image': '',\n",
       "  'source': 'The New York Times'},\n",
       " {'date': '2024-11-06T22:58:00+00:00',\n",
       "  'title': \"Monopoly GO Players Aren't Happy About Latest Peg-E Event\",\n",
       "  'body': 'Many Monopoly GO players are unhappy about the latest Peg-E event and its progression track offerings, causing some to express their displeasure.',\n",
       "  'url': 'https://www.msn.com/en-us/entertainment/gaming/monopoly-go-players-arent-happy-about-latest-peg-e-event/ar-AA1tFsiW',\n",
       "  'image': 'https://static0.gamerantimages.com/wordpress/wp-content/uploads/2024/11/monopoly-go-peg-e-event-feature.jpg',\n",
       "  'source': 'Game Rant on MSN.com'},\n",
       " {'date': '2024-11-11T09:28:00+00:00',\n",
       "  'title': 'UCF keeps records hidden after instructor investigated for inappropriate relationship',\n",
       "  'body': \"Florida Politics asked UCF to redact the student's name to protect his or her identity, a common practice when the school releases investigations naming a victim or someone who filed a complaint. Again, UCF declined. UCF's response was hogwash, according to a First Amendment expert at the University of Florida.\",\n",
       "  'url': 'https://floridapolitics.com/archives/706863-ucf-keeps-records-hidden-after-instructor-investigated-for-inappropriate-relationship/',\n",
       "  'image': '',\n",
       "  'source': 'Florida Politics'},\n",
       " {'date': '2024-11-07T11:54:00+00:00',\n",
       "  'title': \"The Parsha and Current Events: What President Trump's win could mean for Israel\",\n",
       "  'body': '© All rights reserved to Israel National News Ltd.',\n",
       "  'url': 'https://www.israelnationalnews.com/news/398775',\n",
       "  'image': 'https://a7.org/files/pictures/1200x930/1042573.jpg?autocrop=1',\n",
       "  'source': 'Arutz Sheva'},\n",
       " {'date': '2024-11-12T17:30:00+00:00',\n",
       "  'title': 'The Consolation of Providence',\n",
       "  'body': \"The doctrine of God's wise and sovereign governance doesn't make history easy to interpret. It makes living through it endurable.\",\n",
       "  'url': 'https://www.christianitytoday.com/2024/11/the-consolation-of-providence/',\n",
       "  'image': 'https://www.christianitytoday.com/wp-content/uploads/2024/11/our-strengh-consolation.jpg?w=1920',\n",
       "  'source': 'Christianity Today'},\n",
       " {'date': '2024-11-08T00:00:00+00:00',\n",
       "  'title': 'Daily Presidential Tracking Poll',\n",
       "  'body': 'We conduct public opinion polls on a variety of topics to inform our audience on events in the news and other topics of interest. To ensure editorial control and independence, we pay for the polls ...',\n",
       "  'url': 'https://www.rasmussenreports.com/public_content/current_events/politics/prez_track_oct25',\n",
       "  'image': '',\n",
       "  'source': 'Rasmussen Reports'},\n",
       " {'date': '2024-11-12T17:34:00+00:00',\n",
       "  'title': 'Jon Jones Net Worth: What is the UFC 309 star current salary?',\n",
       "  'body': 'Jon \"Bones\" Jones is one of the UFC\\'s most famous fighters, with a career full of high-profile wins and controversies that have shaped both his legacy and his bank account. Known f',\n",
       "  'url': 'https://www.marca.com/en/lifestyle/celebrity-net-worth/2024/11/12/67339f5ae2704ebcb18b4578.html',\n",
       "  'image': 'https://phantom-marca.unidadeditorial.es/db89606e1a93dd64e68903ce48898a3f/resize/1200/f/webp/assets/multimedia/imagenes/2024/11/12/17314359136383.jpg',\n",
       "  'source': 'MARCA'},\n",
       " {'date': '2024-11-11T00:47:00+00:00',\n",
       "  'title': 'One Pokemon TCG Pocket Promo Event Seems Like a Matter of When, Not If',\n",
       "  'body': 'Now that the promos for Pikachu, first-gen starters, and Mewtwo are out of the way, an event for one Pokemon and its evolutions seems inevitable.',\n",
       "  'url': 'https://gamerant.com/pokemon-tcg-pocket-promo-eevee-event-when-if-good/',\n",
       "  'image': 'https://static0.gamerantimages.com/wordpress/wp-content/uploads/wm/2024/11/one-pokemon-tcg-pocket-promo-event-seems-like-a-matter-of-when-not-if.jpg',\n",
       "  'source': 'Game Rant'},\n",
       " {'date': '2024-11-07T04:00:00+00:00',\n",
       "  'title': 'Reports: Mercedes confirm Lewis Hamilton to race final 3 events',\n",
       "  'body': 'Lewis Hamilton will drive for Ferrari next year, but rumors that the seven-time Formula 1 champion is exiting Mercedes before the end of the current season reportedly were refuted by Mercedes.',\n",
       "  'url': 'https://www.reuters.com/sports/formula1/reports-mercedes-confirm-lewis-hamilton-race-final-3-events-2024-11-07/',\n",
       "  'image': 'https://www.reuters.com/resizer/v2/B7JQJ5DVMBKUPL5RWKAJ6TZFOA.jpg?auth=e4575ae26c9475437edcd1f12085cc2d3fadf8a5bb2377732020395d300dda95&height=1005&width=1920&quality=80&smart=true',\n",
       "  'source': 'Reuters'},\n",
       " {'date': '2024-11-06T03:55:00+00:00',\n",
       "  'title': 'Fortnite Remix The Finale live event: Schedule, concert, everything we know',\n",
       "  'body': \"As a way to wrap up the current season, Fortnite will be getting The Finale live event, and here's everything you need to know about it.\",\n",
       "  'url': 'https://www.dexerto.com/fortnite/fortnite-remix-the-finale-live-event-2973220/',\n",
       "  'image': 'https://www.dexerto.com/cdn-image/wp-content/uploads/2024/11/06/fortnite-remix-the-finale-live-event.jpg',\n",
       "  'source': 'Dexerto'},\n",
       " {'date': '2024-11-07T00:00:00+00:00',\n",
       "  'title': 'Genshin Impact events - all current and upcoming events',\n",
       "  'body': \"What are the current and upcoming Genshin Impact events? A new version of Genshin Impact arrives every six weeks, complete with new characters, quests, and events. It's difficult to keep track ...\",\n",
       "  'url': 'https://www.pcgamesn.com/genshin-impact/next-events-schedule',\n",
       "  'image': '',\n",
       "  'source': 'PCGamesN'},\n",
       " {'date': '2024-11-06T00:00:00+00:00',\n",
       "  'title': 'Zenless Zone Zero events - all current and upcoming events',\n",
       "  'body': \"What are the Zenless Zone Zero events? HoYoverse's latest live service gacha game has plenty of content to keep you occupied, whether that's charging through the twists and turns of the main ...\",\n",
       "  'url': 'https://www.pcgamesn.com/zenless-zone-zero/events',\n",
       "  'image': '',\n",
       "  'source': 'PCGamesN'},\n",
       " {'date': '2024-11-12T08:11:00+00:00',\n",
       "  'title': \"The Secret Science Behind Webb's Mirror Mastery\",\n",
       "  'body': 'Since its deployment, the James Webb Space Telescope has been fine-tuned by experts to maintain its powerful optical capabilities, ensuring detailed cosmic observations and robust performance for future astronomical discoveries.',\n",
       "  'url': 'https://scitechdaily.com/the-secret-science-behind-webbs-mirror-mastery/',\n",
       "  'image': 'https://scitechdaily.com/images/James-Webb-Space-Telescope-Primary-Mirror-Alignment.jpg',\n",
       "  'source': 'SciTech Daily'},\n",
       " {'date': '2024-11-06T04:28:00+00:00',\n",
       "  'title': 'US Presidential Election 2024: Astrology and Numerology Forecasts a Tight Race, Unprecedented Events, and Potential Public Outcry',\n",
       "  'body': 'Astro-numerologist Sidhharrth S Kumaar predicts a close and potentially contentious 2024 US Presidential election between Donald Trump and Kamala Harr',\n",
       "  'url': 'https://www.msn.com/en-in/news/world/us-presidential-election-2024-astrology-and-numerology-forecasts-a-tight-race-unprecedented-events-and-potential-public-outcry/ar-AA1tAwB5',\n",
       "  'image': 'https://static.toiimg.com/thumb/msid-115001908,width-1070,height-580,imgsize-31772,resizemode-75,overlay-toi_sw,pt-32,y_pad-40/photo.jpg',\n",
       "  'source': 'The Times of India on MSN.com'},\n",
       " {'date': '2024-11-12T11:10:00+00:00',\n",
       "  'title': 'CEIBS MBA Reception: Navigating Sustainable Career Success',\n",
       "  'body': 'Join CEIBS on November 23, 2024, for an exclusive MBA Student Reception Day to gain insights into the transformative CEIBS MBA program. This event is a chance to connect directly with current MBA students as they share experiences on academics,',\n",
       "  'url': 'https://www.smartshanghai.com/articles/kids-and-family/ceibs-mba-student-reception-special-session-navigating-sustainable-success-in-your-career',\n",
       "  'image': 'https://images.smartshanghai.com.cn/uploads/compressed/2024/11/12/92b69eef-f305-4892-b3a9-34b38a69cb4a.png.1200.800.jpg',\n",
       "  'source': 'Shanghai'},\n",
       " {'date': '2024-11-11T13:52:00+00:00',\n",
       "  'title': 'My home screen is never dull, thanks to these unique Android widgets',\n",
       "  'body': \"My phone's jam packed with unique Android widgets that offer something a little different. Looking for a new widget? You'll find one here.\",\n",
       "  'url': 'https://www.androidauthority.com/unique-android-widgets-3497914/',\n",
       "  'image': 'https://www.androidauthority.com/wp-content/uploads/2024/11/unique-android-widget-feature-1.jpg',\n",
       "  'source': 'Android Authority'},\n",
       " {'date': '2024-11-06T21:27:49+00:00',\n",
       "  'title': '\"Just terrible:\" Padraig Harrington piles on PGA Tour for proposed changes, limited field events',\n",
       "  'body': \"Padraig Harrington is not a fan of the PGA Tour's proposal to limit field sizes and cut Monday qualifiers, among other things.\",\n",
       "  'url': 'https://www.msn.com/en-us/sports/golf/padraig-harrington-piles-on-pga-tour-for-proposed-changes-limited-field-events/ar-AA1tDvMO',\n",
       "  'image': 'https://cdn.vox-cdn.com/thumbor/iT4WAfnn5AsYwYdvT69y3_QSQk8=/0x228:3511x2066/fit-in/1200x630/cdn.vox-cdn.com/uploads/chorus_asset/file/25718309/2178131198.jpg',\n",
       "  'source': 'SB Nation on MSN.com'},\n",
       " {'date': '2024-11-08T00:00:00+00:00',\n",
       "  'title': 'Long duration heavy snow event continues across the Southern Rockies/High Plains through Friday night',\n",
       "  'body': 'Current U.S. snow cover: nearly 14% which is a value more than 3 times the 4.4% U.S. snow cover on this date a year ago. Some higher elevations have already logged nearly three feet of snow. Totals through Thursday afternoon. Current watches/warnings. Key ...',\n",
       "  'url': 'https://wgntv.com/weather/weather-blog/long-duration-heavy-snow-event-continues-across-the-southern-rockies-high-plains-through-friday-night/',\n",
       "  'image': 'https://wgntv.com/wp-content/uploads/sites/5/2024/11/wpc-snow.jpg?w=1280',\n",
       "  'source': 'WGN-TV'},\n",
       " {'date': '2024-11-08T03:37:00+00:00',\n",
       "  'title': 'CPKC Stadium caps busy 2 weeks Saturday with unique Current, Jayhawks doubleheader',\n",
       "  'body': \"The pitch at CPKC Stadium has hosted 10 Big 12 women's soccer matches since Oct. 30, but it gets a unique test Saturday with a Kansas City Current playoff/Big 12 Championship Game doubleheader.\",\n",
       "  'url': 'https://www.kshb.com/sports/local-sports/kc-current/cpkc-stadium-caps-busy-2-weeks-saturday-with-unique-current-jayhawks-doubleheader',\n",
       "  'image': '',\n",
       "  'source': 'KSHB Kansas City'}]"
      ]
     },
     "execution_count": 3,
     "metadata": {},
     "output_type": "execute_result"
    }
   ],
   "execution_count": 3
  },
  {
   "metadata": {},
   "cell_type": "code",
   "source": [
    "results = DDGS().text(keywords=\"Current Events\", region=\"wt-wt\",safesearch=\"off\")\n",
    "results"
   ],
   "id": "eaafe29fec28577a",
   "outputs": [],
   "execution_count": null
  }
 ],
 "metadata": {
  "kernelspec": {
   "display_name": "Python 3",
   "language": "python",
   "name": "python3"
  },
  "language_info": {
   "codemirror_mode": {
    "name": "ipython",
    "version": 2
   },
   "file_extension": ".py",
   "mimetype": "text/x-python",
   "name": "python",
   "nbconvert_exporter": "python",
   "pygments_lexer": "ipython2",
   "version": "2.7.6"
  }
 },
 "nbformat": 4,
 "nbformat_minor": 5
}
