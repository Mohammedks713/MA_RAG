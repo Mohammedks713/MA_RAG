{
 "cells": [
  {
   "cell_type": "code",
   "id": "initial_id",
   "metadata": {
    "collapsed": true
   },
   "source": "# !pip install git+https://github.com/openai/swarm.git --disable-pip-version-check",
   "outputs": [],
   "execution_count": null
  },
  {
   "metadata": {},
   "cell_type": "code",
   "source": "# !pip install python-dotenv --disable-pip-version-check",
   "id": "2649b70e98fb87b2",
   "outputs": [],
   "execution_count": null
  },
  {
   "metadata": {},
   "cell_type": "code",
   "source": "# !pip install git+https://github.com/chrislatimer/microagent.git",
   "id": "c1de96699851156d",
   "outputs": [],
   "execution_count": null
  },
  {
   "metadata": {},
   "cell_type": "code",
   "source": [
    "import os\n",
    "from groq import Groq\n",
    "from dotenv import load_dotenv\n",
    "load_dotenv()\n",
    "client = Groq(\n",
    "    # This is the default and can be omitted\n",
    "    api_key=os.getenv(\"GROQ_API_KEY\"),\n",
    ")"
   ],
   "id": "b2758d3f06a2eb6e",
   "outputs": [],
   "execution_count": null
  },
  {
   "metadata": {},
   "cell_type": "code",
   "source": "models = client.models.list()",
   "id": "27f36bfa0cd8b25f",
   "outputs": [],
   "execution_count": null
  },
  {
   "metadata": {},
   "cell_type": "code",
   "source": [
    "ids = [item.id for item in  models.data]\n",
    "print(ids)"
   ],
   "id": "e81432eb843512d1",
   "outputs": [],
   "execution_count": null
  },
  {
   "metadata": {},
   "cell_type": "code",
   "source": "MODEL = \"llama-3.2-90b-text-preview\"",
   "id": "27c587008612c766",
   "outputs": [],
   "execution_count": null
  },
  {
   "metadata": {},
   "cell_type": "code",
   "source": [
    "from datetime import datetime\n",
    "from duckduckgo_search import DDGS\n",
    "from microagent import Microagent, Agent\n",
    "\n",
    "client = Microagent(llm_type='groq')\n",
    "\n",
    "ddgs = DDGS()"
   ],
   "id": "84f69c1fc6d713ce",
   "outputs": [],
   "execution_count": null
  },
  {
   "metadata": {},
   "cell_type": "code",
   "source": [
    "results = DDGS().news(keywords=\"Current Events\", region=\"wt-wt\", safesearch=\"off\", timelimit=\"w\", max_results=20)\n",
    "results"
   ],
   "id": "aba928864701b0ec",
   "outputs": [],
   "execution_count": null
  },
  {
   "metadata": {},
   "cell_type": "code",
   "source": [
    "results = DDGS().text(keywords=\"Current Events\", region=\"wt-wt\",safesearch=\"off\")\n",
    "results"
   ],
   "id": "eaafe29fec28577a",
   "outputs": [],
   "execution_count": null
  }
 ],
 "metadata": {
  "kernelspec": {
   "display_name": "Python 3",
   "language": "python",
   "name": "python3"
  },
  "language_info": {
   "codemirror_mode": {
    "name": "ipython",
    "version": 2
   },
   "file_extension": ".py",
   "mimetype": "text/x-python",
   "name": "python",
   "nbconvert_exporter": "python",
   "pygments_lexer": "ipython2",
   "version": "2.7.6"
  }
 },
 "nbformat": 4,
 "nbformat_minor": 5
}
